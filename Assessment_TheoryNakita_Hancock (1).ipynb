{
  "nbformat": 4,
  "nbformat_minor": 0,
  "metadata": {
    "colab": {
      "provenance": []
    },
    "kernelspec": {
      "name": "python3",
      "display_name": "Python 3"
    },
    "language_info": {
      "name": "python"
    }
  },
  "cells": [
    {
      "cell_type": "markdown",
      "source": [
        "## Assessment Theory Questions - 20/12/2023 - Nakita Hancock"
      ],
      "metadata": {
        "id": "mGU7Lv9SesIu"
      }
    },
    {
      "cell_type": "markdown",
      "source": [
        "### 1.1 In your own words, what does the role of a data scientist involve?  "
      ],
      "metadata": {
        "id": "S14Zt9Lhe64z"
      }
    },
    {
      "cell_type": "markdown",
      "source": [
        "**1.1**\n",
        "The responsibilities of a data scientist involves a diverse set of skills and tools. Data scientists are tasked with the analysis and interpretation of data sets, finding valuable insights to facilitate informed decision-making. They acquire data from multiple sources, and undertake preprocessing and cleansing processes. Using statistical methods and visualization techniques, they explore and comprehend the underlying patterns within the data. Data scientists construct and train machine learning models. To effectively communicate their findings, they tailor presentations to the technical proficiency of their audience, employing various techniques to ensure clarity and comprehension.\n",
        "\n"
      ],
      "metadata": {
        "id": "Kt9HYQaofMpP"
      }
    },
    {
      "cell_type": "markdown",
      "source": [
        "### 1.2 What is an outlier? Here we expect to see the following:\n"
      ],
      "metadata": {
        "id": "A4GjHTAbfM8s"
      }
    },
    {
      "cell_type": "markdown",
      "source": [
        "*1.2*\n",
        "\n",
        "A: An outlier is a data point that deviates significantly from others and may result from factors like human error, data entry mistakes, or natural variation.\n",
        "B: Global Outliers:\n",
        "Data points markedly different from all others in the dataset, standing out as extreme values across the entire dataset.\n",
        "Example: In a monthly income dataset for a large population, an individual with an annual income five standard deviations above the mean is a global outlier.\n",
        "Contextual Outliers:\n",
        "Data points considered outliers in one context but not in another, dependent on the specific context or subpopulation.\n",
        "Example: In a study of household income in a low-income neighborhood, a family with significantly higher income than others is a contextual outlier within that community.\n",
        "Collective Outliers (or Clusters):\n",
        "Description: Occur as a group or cluster within the dataset, with different underlying causes compared to individual outliers.\n",
        "Example: In a daily website traffic dataset, a sudden spike in visitors due to a specific event or marketing campaign creates a collective outlier.\n",
        "C: Whether outliers should be removed depends on the context and the nature of the data. In some cases, outliers may be genuine observations that carry important information or insights. Removing them can lead to loss of valuable information and bias in the analysis. It's essential to consider the cause of outliers and whether they represent errors or meaningful phenomena.\n",
        "However, in certain situations, outliers may be indicative of errors Careful consideration is crucial when deciding whether to remove outliers.\n",
        "D: Other potential challenges in a dataset include:\n",
        "1.Missing data can distort results.\n",
        "2.Duplicate entries may skew data, leading to inaccurate conclusions.\n",
        "3.Inconsistent data entry, such as varied styles for a category (e.g., Male, male, M), can introduce errors."
      ],
      "metadata": {
        "id": "AAe3hkkbfNPZ"
      }
    },
    {
      "cell_type": "markdown",
      "source": [
        "### 1.3 Describe the concepts of data cleaning and data quality."
      ],
      "metadata": {
        "id": "NV854ZkDfNc5"
      }
    },
    {
      "cell_type": "markdown",
      "source": [
        "*1.3*\n",
        "A: Data cleaning involves identifying and correcting errors, missing data, or inconsistencies in datasets. The objective is to improve data quality, ensuring accuracy, reliability, and suitability for analysis.\n",
        "B: Accuracy: It ensures that the data is free from errors, inconsistencies, and inaccuracies, leading to more reliable analysis and decision-making.\n",
        "Reliability: Clean data provides a solid foundation for statistical and machine learning models, reducing the risk of biased results and incorrect conclusions.\n",
        "Efficiency: It streamlines the analysis process by removing irrelevant or redundant information, saving time and resources.\n",
        "Compliance: Clean data is crucial for meeting regulatory and industry standards, especially in sensitive domains such as healthcare and finance.\n",
        "Improved Insights: By removing noise and irrelevant data, cleaning enhances the quality of insights derived from the dataset, leading to better business outcomes.\n",
        "C: Common issues in datasets are:\n",
        "1. Missing data\n",
        "2. Duplicate entries\n",
        "3. Inconsistant data formatting\n",
        "4.Outliers\n",
        "5. Data entry errors\n"
      ],
      "metadata": {
        "id": "hRZ8mq7uflP1"
      }
    },
    {
      "cell_type": "markdown",
      "source": [
        "#### 1.4 Discuss what is Unsupervised Learning - Clustering in Machine Learning\n"
      ],
      "metadata": {
        "id": "fjRB2JTkfk6s"
      }
    },
    {
      "cell_type": "markdown",
      "source": [
        "**1.4**\n",
        "Unsupervised learning is a type of machine learning the algorithm is given a dataset without exact instructions on what to do.\n",
        "Unsupervised learning aims to discover patterns, structures of relationships within the dat.\n",
        "Unsupervised learning is used when the aim is to explore the structure of the data and it can be used for\n",
        "pattern recognition finding structures or patterns in the data\n",
        "Anomaly detection finding unusual or unexpected patterns\n",
        "Data compression reduucing the dimensionality of data grouping similar observations\n",
        "Exploratory data analysis getting insights into the structure of a dataset\n",
        "A real world application of unsupervising learning is customer segmentation in marketing. A company wants to tailor its marketing strategies to different groups so it collects data on their purchasing behavior eg.types of products they have brought how often and the average order value.\n",
        "Using clustering algorithms they can id the groups with similar purchasing patterns and then customise marketing, promotions and produuct reccomendations for each group.\n",
        "Its main limitations are\n",
        "Scalability the complexity of clustoring algorithms can limit the scalability in larger datasets.\n",
        "Sensitivity to Starting points Some clustering algorithms are sensitive to initial conditions, which means different starting points can lead to different results.\n",
        "Assumption of Homogeneity Clustering assumes that data points within a cluster are homogeneous, which may not always be the case in complex datasets."
      ],
      "metadata": {
        "id": "4W1LAgmHfkhW"
      }
    },
    {
      "cell_type": "markdown",
      "source": [
        "#### 1.5 Discuss what is Supervised Learning - Classification in Machine Learning\n"
      ],
      "metadata": {
        "id": "zxqxC0cYfxqJ"
      }
    },
    {
      "cell_type": "markdown",
      "source": [
        "1.5\n",
        "Supervised learning is where the algorithm is trained on a labeled dataset with input-output pairs. The algorithm learns a mapping function from the input data to the corresponding output labels, allowing it to make predictions or classify new, unseen data. Classification, a common task in supervised learning, involves assigning predefined labels or categories to input data.\n",
        "    Supervised learning is used when the goal is to predict or classify outcomes based on input data and when labeled training data is available.\n",
        "    It has various uses such as\n",
        "Image Recognition Classifying images into categories, such as identifying whether an image contains a cat or a dog.\n",
        "Credit Scoring Assessing the risk of individuals based on historical financial data.\n",
        "Spam Detection Determining whether an email is spam or not based on its content and characteristics.\n",
        "    A real-world use of supervised learning in classification of customer reviews. An algerithm to automatically categorize customer reviews as positive, negative, or neutral.\n",
        "The platform collects a dataset of customer reviews along with corresponding labels indicating the sentiment (positive, negative, or neutral). The supervised learning algorithm is trained on this data, learning patterns with each category. Once trained, the model can predict the sentiment of new, unseen customer reviews.\n",
        "    For supervised learning, particularly classification, you need a labeled dataset, with input features and output labels.\n",
        "Text data needs to be preprocessed. This involves tasks such as removing stopwords, converting text to lowercase, and handling special characters.\n",
        "Converting text data into numerical features that machine learning algorithms can understand.\n",
        "Converting categorical labels (e.g., \"positive,\" \"negative\") into numerical format that the algorithm can use during training.\n",
        "Dividing the labeled dataset into training and testing sets to evaluate the model's performance on unseen data.\n"
      ],
      "metadata": {
        "id": "6Fzsjr9WfxlJ"
      }
    }
  ]
}